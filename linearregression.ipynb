{
 "cells": [
  {
   "cell_type": "code",
   "execution_count": 23,
   "id": "310618a2",
   "metadata": {},
   "outputs": [
    {
     "name": "stdout",
     "output_type": "stream",
     "text": [
      "[0, 2, 4, 6, 8, 10, 12, 14, 16, 18]\n"
     ]
    },
    {
     "data": {
      "text/plain": [
       "[0, 1, 4, 9, 16, 25, 36, 49, 64, 81]"
      ]
     },
     "execution_count": 23,
     "metadata": {},
     "output_type": "execute_result"
    }
   ],
   "source": [
    "List= [] \n",
    "\n",
    "for x in range(20):\n",
    "    if x % 2 ==0 :\n",
    "        List.append(x)\n",
    "\n",
    "print(List)\n",
    "\n",
    "[x**2 for x in range(10)]\n"
   ]
  },
  {
   "cell_type": "code",
   "execution_count": 24,
   "id": "028d4b1c",
   "metadata": {},
   "outputs": [
    {
     "data": {
      "text/plain": [
       "[0, 1, 4, 9, 16, 25, 36, 49, 64, 81]"
      ]
     },
     "execution_count": 24,
     "metadata": {},
     "output_type": "execute_result"
    }
   ],
   "source": [
    "[x**2 for x in range(10)]\n"
   ]
  },
  {
   "cell_type": "code",
   "execution_count": 25,
   "id": "eb16c1e5",
   "metadata": {},
   "outputs": [],
   "source": [
    "### Variable length argument \n",
    "## position nd keywords arguments\n",
    "\n",
    "def print_numbers(*args):\n",
    "    for number in args:\n",
    "        print(number)"
   ]
  },
  {
   "cell_type": "code",
   "execution_count": 26,
   "id": "0a9eab59",
   "metadata": {},
   "outputs": [
    {
     "name": "stdout",
     "output_type": "stream",
     "text": [
      "(1, 2, 3, 4, 5, 6, 7, 8, 9, 'hello')\n"
     ]
    }
   ],
   "source": [
    "print_numbers((1,2,3,4,5,6,7,8,9,\"hello\"))\n"
   ]
  },
  {
   "cell_type": "code",
   "execution_count": 27,
   "id": "93bb4a93",
   "metadata": {},
   "outputs": [],
   "source": [
    "def hello(args):\n",
    "    for num in args:\n",
    "        print(args*2)"
   ]
  },
  {
   "cell_type": "code",
   "execution_count": 28,
   "id": "8ef06abf",
   "metadata": {},
   "outputs": [
    {
     "name": "stdout",
     "output_type": "stream",
     "text": [
      "hellossshellosss\n",
      "hellossshellosss\n",
      "hellossshellosss\n",
      "hellossshellosss\n",
      "hellossshellosss\n",
      "hellossshellosss\n",
      "hellossshellosss\n",
      "hellossshellosss\n"
     ]
    }
   ],
   "source": [
    "hello(\"hellosss\")"
   ]
  },
  {
   "cell_type": "code",
   "execution_count": 29,
   "id": "89a2d866",
   "metadata": {},
   "outputs": [
    {
     "name": "stdout",
     "output_type": "stream",
     "text": [
      "42\n",
      "56\n",
      "72\n"
     ]
    }
   ],
   "source": [
    "def multiply(*args):\n",
    "        for num in args:\n",
    "                print ( num*(num+1))\n",
    "        num +=num\n",
    "        \n",
    "        \n",
    "        \n",
    "        \n",
    "        \n",
    "multiply(6,7,8)\n"
   ]
  },
  {
   "cell_type": "code",
   "execution_count": 30,
   "id": "66110e7e",
   "metadata": {},
   "outputs": [],
   "source": [
    "def convert_temprature(tamp,unit):\n",
    "    if unit == 'c':\n",
    "        print( (tamp* 9/5) +32)\n",
    "    elif unit == 'f':\n",
    "        return (tamp -32)*5/9"
   ]
  },
  {
   "cell_type": "code",
   "execution_count": 31,
   "id": "2b872f39",
   "metadata": {},
   "outputs": [
    {
     "name": "stdout",
     "output_type": "stream",
     "text": [
      "2.2222222222222223\n",
      "96.8\n",
      "None\n"
     ]
    }
   ],
   "source": [
    "print (convert_temprature(36,'f'))\n",
    "print (convert_temprature(36,'c'))\n",
    "\n",
    "\n",
    "\n"
   ]
  },
  {
   "cell_type": "code",
   "execution_count": 32,
   "id": "212d2de5",
   "metadata": {},
   "outputs": [
    {
     "name": "stdout",
     "output_type": "stream",
     "text": [
      "290\n"
     ]
    }
   ],
   "source": [
    "def total_amount(cart):\n",
    "    total_value =0\n",
    "    for item in cart:\n",
    "        total_value += item['price']*item['quantity']\n",
    "\n",
    "    return total_value\n",
    "        \n",
    "    \n",
    "\n",
    "cart =[\n",
    "\n",
    "    {'name' : 'carrot' , 'price': 50 , 'quantity' : 1  },\n",
    "    { 'name' : 'mango' , 'price' : 40 , 'quantity' : 6}\n",
    "\n",
    "]\n",
    "\n",
    "total_value = total_amount(cart)\n",
    "print(total_value)\n",
    "\n",
    "\n"
   ]
  },
  {
   "cell_type": "code",
   "execution_count": 33,
   "id": "bf5817ef",
   "metadata": {},
   "outputs": [
    {
     "name": "stdout",
     "output_type": "stream",
     "text": [
      "True\n",
      "120\n"
     ]
    }
   ],
   "source": [
    "# Check if string is palindrome or not \n",
    "def is_palindrome(s):\n",
    "    s = s.lower().replace(\" \",\"\")\n",
    "    return s == s[::-1]\n",
    "\n",
    "print(is_palindrome(\"A man a plan a canal Panama\"))\n",
    "\n",
    "# calculate the factorial o f the number using recussion \n",
    "\n",
    "def factorial(n):\n",
    "    if n== 0:\n",
    "        return 1\n",
    "    else:\n",
    "        return n* factorial(n-1)\n",
    "\n",
    "print(factorial(5))        "
   ]
  },
  {
   "cell_type": "code",
   "execution_count": 34,
   "id": "61694971",
   "metadata": {},
   "outputs": [
    {
     "name": "stdout",
     "output_type": "stream",
     "text": [
      "[2, 4]\n"
     ]
    }
   ],
   "source": [
    "numbers = [1, 2, 3, 4, 5]\n",
    "squared = list(filter(lambda x: x % 2 == 0, numbers))\n",
    "print(squared)\n"
   ]
  },
  {
   "cell_type": "code",
   "execution_count": 35,
   "id": "8a5da28b",
   "metadata": {},
   "outputs": [
    {
     "data": {
      "text/plain": [
       "4.0"
      ]
     },
     "execution_count": 35,
     "metadata": {},
     "output_type": "execute_result"
    }
   ],
   "source": [
    "import math\n",
    "math.sqrt(16)"
   ]
  },
  {
   "cell_type": "code",
   "execution_count": 36,
   "id": "11be75c6",
   "metadata": {},
   "outputs": [
    {
     "name": "stdout",
     "output_type": "stream",
     "text": [
      "Requirement already satisfied: numpy in .\\venv\\lib\\site-packages (2.3.1)\n",
      "Note: you may need to restart the kernel to use updated packages.\n"
     ]
    }
   ],
   "source": [
    "pip install numpy"
   ]
  },
  {
   "cell_type": "code",
   "execution_count": 37,
   "id": "f60814b5",
   "metadata": {},
   "outputs": [
    {
     "data": {
      "text/plain": [
       "array([1, 2, 3, 4])"
      ]
     },
     "execution_count": 37,
     "metadata": {},
     "output_type": "execute_result"
    }
   ],
   "source": [
    "import numpy as np\n",
    "np.array([1,2,3,4])"
   ]
  },
  {
   "cell_type": "code",
   "execution_count": 38,
   "id": "33d62766",
   "metadata": {},
   "outputs": [
    {
     "name": "stdout",
     "output_type": "stream",
     "text": [
      "4.0\n",
      "3.141592653589793\n"
     ]
    }
   ],
   "source": [
    "from math import *\n",
    "print(sqrt(16))\n",
    "print(pi)\n"
   ]
  },
  {
   "cell_type": "code",
   "execution_count": 39,
   "id": "1ee7f15f",
   "metadata": {},
   "outputs": [
    {
     "data": {
      "text/plain": [
       "4.0"
      ]
     },
     "execution_count": 39,
     "metadata": {},
     "output_type": "execute_result"
    }
   ],
   "source": [
    "import pandas as pd\n",
    "from math import *\n",
    "sqrt(16)"
   ]
  },
  {
   "cell_type": "code",
   "execution_count": 40,
   "id": "f4f58dae",
   "metadata": {},
   "outputs": [
    {
     "name": "stdout",
     "output_type": "stream",
     "text": [
      "array('i', [1, 2, 3, 4])\n"
     ]
    }
   ],
   "source": [
    "import array\n",
    "arr =array.array('i',[1,2,3,4])\n",
    "print(arr)"
   ]
  },
  {
   "cell_type": "code",
   "execution_count": 41,
   "id": "4cdf8097",
   "metadata": {},
   "outputs": [
    {
     "name": "stdout",
     "output_type": "stream",
     "text": [
      "u:\\utkarsh ppt\\pythonnew\n"
     ]
    }
   ],
   "source": [
    "import os\n",
    "print(os.getcwd())\n"
   ]
  },
  {
   "cell_type": "code",
   "execution_count": 42,
   "id": "8560463c",
   "metadata": {},
   "outputs": [
    {
     "name": "stdout",
     "output_type": "stream",
     "text": [
      "{\"name\": \"krish\", \"age\": 25}\n",
      "<class 'str'>\n",
      "{'name': 'krish', 'age': 25}\n",
      "<class 'dict'>\n"
     ]
    }
   ],
   "source": [
    "#data sterlization\n",
    "import json\n",
    "data={'name':'krish','age':25}\n",
    "json_str=json.dumps(data)\n",
    "print(json_str)\n",
    "print(type(json_str))\n",
    "parsed_data =json.loads(json_str)\n",
    "print(parsed_data)\n",
    "print(type(parsed_data))"
   ]
  },
  {
   "cell_type": "code",
   "execution_count": 43,
   "id": "59c22528",
   "metadata": {},
   "outputs": [
    {
     "name": "stdout",
     "output_type": "stream",
     "text": [
      "['name', 'age']\n",
      "['krish', '32']\n"
     ]
    }
   ],
   "source": [
    "import csv\n",
    "\n",
    "with open('example.csv',mode='w',newline='') as file:\n",
    "    writer = csv.writer(file)\n",
    "    writer.writerow(['name','age'])\n",
    "    writer.writerow(['krish',32])\n",
    "\n",
    "with open('example.csv',mode='r')as file:\n",
    "    reader=csv.reader(file)\n",
    "    for row in reader:\n",
    "       print(row)    "
   ]
  },
  {
   "cell_type": "code",
   "execution_count": 44,
   "id": "f9e13052",
   "metadata": {},
   "outputs": [
    {
     "name": "stdout",
     "output_type": "stream",
     "text": [
      "2025-07-19 10:19:19.070445\n",
      "2025-07-18 10:19:19.070445\n"
     ]
    }
   ],
   "source": [
    "from datetime import datetime,timedelta\n",
    "\n",
    "now =datetime.now()\n",
    "print(now)\n",
    "yesterday = now -timedelta(days=1)\n",
    "\n",
    "print(yesterday)"
   ]
  },
  {
   "cell_type": "code",
   "execution_count": 45,
   "id": "5eba5db6",
   "metadata": {},
   "outputs": [
    {
     "name": "stdout",
     "output_type": "stream",
     "text": [
      "dog bruno is barking\n",
      "dog tommoy is barking\n",
      "6\n"
     ]
    }
   ],
   "source": [
    "### class and object \n",
    "class dog:\n",
    "    def __init__(self,name,age):\n",
    "        self.name =name\n",
    "        self.age=age\n",
    "    def bark(self):\n",
    "        print(f\"dog {self.name} is barking\")  \n",
    "\n",
    "\n",
    "dog1= dog(\"bruno\",6)\n",
    "dog2= dog(\"tommoy\",4)\n",
    "dog1.bark()\n",
    "dog2.bark()\n",
    "\n",
    "print(dog1.age)\n"
   ]
  },
  {
   "cell_type": "code",
   "execution_count": 46,
   "id": "afbd1cab",
   "metadata": {},
   "outputs": [
    {
     "name": "stdout",
     "output_type": "stream",
     "text": [
      "Tesla supports self driving :True\n",
      "Petrol\n"
     ]
    }
   ],
   "source": [
    "class car:\n",
    "    def __init__(self,windows,doors,enginetype):\n",
    "        self.windows =windows\n",
    "        self.doors=doors\n",
    "        self.enginetype=enginetype\n",
    "    def drive(self):\n",
    "        print(f\"The person will drive the {self.enginetype} car\")\n",
    "\n",
    "car1=car(4,4,\"Petrol\")\n",
    "     \n",
    "\n",
    "class tesla(car):\n",
    "    def __init__(self, windows, doors, enginetype,is_selfdriving):\n",
    "        super().__init__(windows, doors, enginetype)\n",
    "        self.is_selfdriving=is_selfdriving\n",
    "    \n",
    "    def selfdriving(self):\n",
    "        print(f\"Tesla supports self driving :{self.is_selfdriving}\")\n",
    "\n",
    "tesla1=tesla(4,5,\"electric\",True)  \n",
    "tesla1.selfdriving()  \n",
    "print(car1.enginetype)    \n",
    "    \n"
   ]
  },
  {
   "cell_type": "code",
   "execution_count": 47,
   "id": "c999abaf",
   "metadata": {},
   "outputs": [
    {
     "name": "stdout",
     "output_type": "stream",
     "text": [
      "the area of the figure\n",
      " the area is 480\n",
      " the area is 153.86\n"
     ]
    }
   ],
   "source": [
    "class shape:\n",
    "    def area(self):\n",
    "        print ( \"the area of the figure\")\n",
    "        \n",
    "\n",
    "class reactangle(shape):\n",
    "    def __init__(self,width,height):\n",
    "        self.width =width\n",
    "        self.height=height\n",
    "    def area(self):\n",
    "        super().area()\n",
    "        return self.width * self.height     \n",
    "\n",
    "class circle(shape):\n",
    "    def __init__(self,radius):\n",
    "        self.radius =radius\n",
    "\n",
    "    def area(self):\n",
    "        return 3.14*self.radius*self.radius\n",
    "\n",
    "def print_area(shape):\n",
    "    print(f\" the area is {shape.area()}\")        \n",
    "\n",
    "\n",
    "reactangle1 =reactangle(80,6)\n",
    "circle1 =circle(7)\n",
    "\n",
    "print_area(reactangle1)\n",
    "print_area(circle1)\n",
    "\n",
    "\n"
   ]
  },
  {
   "cell_type": "code",
   "execution_count": 48,
   "id": "67ff92f3",
   "metadata": {},
   "outputs": [
    {
     "name": "stdout",
     "output_type": "stream",
     "text": [
      "car engine started\n"
     ]
    }
   ],
   "source": [
    "from abc import ABC,abstractmethod\n",
    "\n",
    "class vehicle(ABC):\n",
    "    @abstractmethod\n",
    "    def start_engine(self):\n",
    "        pass\n",
    "class car(vehicle):\n",
    "    def start_engine(self):\n",
    "        return \"car engine started\"   \n",
    "    \n",
    "class motorcycle(vehicle):\n",
    "    def start_engine(self):\n",
    "        return  \"motorcycle engine start\"  \n",
    "    \n",
    "def start_vehicle(vehicle):\n",
    "    print(vehicle.start_engine())\n",
    "\n",
    "car1 =car()\n",
    "start_vehicle(car1)  "
   ]
  },
  {
   "cell_type": "code",
   "execution_count": 49,
   "id": "297aa0a2",
   "metadata": {},
   "outputs": [],
   "source": [
    "def squar():\n",
    "    for i in range(3):\n",
    "        yield ( i**2)\n",
    "    "
   ]
  },
  {
   "cell_type": "code",
   "execution_count": 50,
   "id": "9f41cc13",
   "metadata": {},
   "outputs": [
    {
     "name": "stdout",
     "output_type": "stream",
     "text": [
      "0\n",
      "1\n",
      "4\n"
     ]
    }
   ],
   "source": [
    "for i in squar():\n",
    "    print(i)"
   ]
  },
  {
   "cell_type": "code",
   "execution_count": 51,
   "id": "6dea74c8",
   "metadata": {},
   "outputs": [
    {
     "name": "stdout",
     "output_type": "stream",
     "text": [
      "Requirement already satisfied: numpy in .\\venv\\lib\\site-packages (2.3.1)\n"
     ]
    }
   ],
   "source": [
    "### Numpy is a fundamental library f0r scientific computing in python . It provides support for arrays and matrices , along with the collection of mathematical functions to operate on these data structures .\n",
    "!pip install numpy"
   ]
  },
  {
   "cell_type": "code",
   "execution_count": 52,
   "id": "31e0e5bc",
   "metadata": {},
   "outputs": [
    {
     "name": "stdout",
     "output_type": "stream",
     "text": [
      "[1 2 3 4 5 6]\n",
      "<class 'numpy.ndarray'>\n"
     ]
    },
    {
     "data": {
      "text/plain": [
       "array([[1., 0., 0.],\n",
       "       [0., 1., 0.],\n",
       "       [0., 0., 1.]])"
      ]
     },
     "execution_count": 52,
     "metadata": {},
     "output_type": "execute_result"
    }
   ],
   "source": [
    "import numpy as np \n",
    "# create arrays using numpy\n",
    "\n",
    "arr1 =np.array([1,2,3,4,5,6])\n",
    "print(arr1)\n",
    "print(type(arr1))\n",
    "arr1.reshape(3,2)\n",
    "\n",
    "## identity matrix\n",
    "np.eye(3)\n",
    "\n"
   ]
  },
  {
   "cell_type": "code",
   "execution_count": 53,
   "id": "c9813601",
   "metadata": {},
   "outputs": [
    {
     "name": "stdout",
     "output_type": "stream",
     "text": [
      "3.0\n",
      "1.4142135623730951\n",
      "normalized data : [-1.41421356 -0.70710678  0.          0.70710678  1.41421356]\n"
     ]
    }
   ],
   "source": [
    "## statistical concept -normalisation \n",
    "## to have a mean of 0 and standard deviation of 1 \n",
    "data = np.array([1,2,3,4,5])\n",
    "#calculate the mean and standard deviation \n",
    "mean =np.mean(data)\n",
    "std_dev =np.std(data)\n",
    "print(mean)\n",
    "print(std_dev)\n",
    "\n",
    "#normalize the data\n",
    "normalized_data= (data-mean)/std_dev\n",
    "\n",
    "print(\"normalized data :\", normalized_data)"
   ]
  },
  {
   "cell_type": "code",
   "execution_count": 54,
   "id": "5b4cfe1d",
   "metadata": {},
   "outputs": [
    {
     "name": "stdout",
     "output_type": "stream",
     "text": [
      "    name  age   city\n",
      "0  lrish   24   agra\n",
      "1   jogn   56    goa\n",
      "2   jack   76  delhi\n"
     ]
    }
   ],
   "source": [
    "### panda is powerful data manipulation library in python , widely ised for data analysis and data cleaning . it provides two primary data structures: series and data frame ,A series is a 1-dim array like object , while data frame is 2 -dim size mutable and potentially heterogeneous tabular data structure with labled axes (row and column)\n",
    "import pandas as pd\n",
    "data ={\n",
    "    'name':[ 'lrish','jogn','jack'],\n",
    "    'age':[24,56,76],\n",
    "    'city': ['agra','goa','delhi']\n",
    "}\n",
    "df = pd.DataFrame(data)\n",
    "print(df)"
   ]
  },
  {
   "cell_type": "code",
   "execution_count": 55,
   "id": "66377c8c",
   "metadata": {},
   "outputs": [
    {
     "name": "stdout",
     "output_type": "stream",
     "text": [
      "    name  age   city\n",
      "0  krish   24  delhi\n",
      "1     om   24  delhi\n",
      "2    ram   24  delhi\n",
      "3  kohli   24  delhi\n"
     ]
    }
   ],
   "source": [
    "#create a datadrame from a list of dictionaries \n",
    "data =[\n",
    "    {'name': 'krish','age':24,'city': 'delhi'\n",
    "},{'name': 'om','age':24,'city': 'delhi'\n",
    "},{'name': 'ram','age':24,'city': 'delhi'\n",
    "},{'name': 'kohli','age':24,'city': 'delhi'\n",
    "}]\n",
    "df = pd.DataFrame(data)\n",
    "print(df)\n"
   ]
  },
  {
   "cell_type": "code",
   "execution_count": 56,
   "id": "fa9606d1",
   "metadata": {},
   "outputs": [
    {
     "data": {
      "text/html": [
       "<div>\n",
       "<style scoped>\n",
       "    .dataframe tbody tr th:only-of-type {\n",
       "        vertical-align: middle;\n",
       "    }\n",
       "\n",
       "    .dataframe tbody tr th {\n",
       "        vertical-align: top;\n",
       "    }\n",
       "\n",
       "    .dataframe thead th {\n",
       "        text-align: right;\n",
       "    }\n",
       "</style>\n",
       "<table border=\"1\" class=\"dataframe\">\n",
       "  <thead>\n",
       "    <tr style=\"text-align: right;\">\n",
       "      <th></th>\n",
       "      <th>employee_name</th>\n",
       "      <th>email</th>\n",
       "      <th>job_profile</th>\n",
       "    </tr>\n",
       "  </thead>\n",
       "  <tbody>\n",
       "    <tr>\n",
       "      <th>0</th>\n",
       "      <td>james</td>\n",
       "      <td>james@gmail.com</td>\n",
       "      <td>{'title': 'team lead', 'title2': 'sr.developer'}</td>\n",
       "    </tr>\n",
       "  </tbody>\n",
       "</table>\n",
       "</div>"
      ],
      "text/plain": [
       "  employee_name            email  \\\n",
       "0         james  james@gmail.com   \n",
       "\n",
       "                                        job_profile  \n",
       "0  {'title': 'team lead', 'title2': 'sr.developer'}  "
      ]
     },
     "execution_count": 56,
     "metadata": {},
     "output_type": "execute_result"
    }
   ],
   "source": [
    "import pandas as pd\n",
    "from io import StringIO\n",
    "### StringIO is a class from Python's io module that allows you to treat strings as file-like objects. It provides an in-memory file-like interface for text data.\n",
    "Data ='{\"employee_name\" :\"james\", \"email\":\"james@gmail.com\", \"job_profile\":[{\"title\":\"team lead\",\"title2\":\"sr.developer\"}]}'\n",
    "df=pd.read_json(StringIO(Data))\n",
    "df\n"
   ]
  },
  {
   "cell_type": "code",
   "execution_count": 57,
   "id": "7a275363",
   "metadata": {},
   "outputs": [
    {
     "data": {
      "text/plain": [
       "'{\"0\":{\"employee_name\":\"james\",\"email\":\"james@gmail.com\",\"job_profile\":{\"title\":\"team lead\",\"title2\":\"sr.developer\"}}}'"
      ]
     },
     "execution_count": 57,
     "metadata": {},
     "output_type": "execute_result"
    }
   ],
   "source": [
    "df.to_json(orient='index')\n"
   ]
  },
  {
   "cell_type": "code",
   "execution_count": 58,
   "id": "ee056df9",
   "metadata": {},
   "outputs": [
    {
     "data": {
      "text/plain": [
       "'[{\"employee_name\":\"james\",\"email\":\"james@gmail.com\",\"job_profile\":{\"title\":\"team lead\",\"title2\":\"sr.developer\"}}]'"
      ]
     },
     "execution_count": 58,
     "metadata": {},
     "output_type": "execute_result"
    }
   ],
   "source": [
    "df.to_json(orient='records')"
   ]
  },
  {
   "cell_type": "code",
   "execution_count": 59,
   "id": "74fec06b",
   "metadata": {},
   "outputs": [],
   "source": [
    "df=pd.read_csv(\"https://archive.ics.uci.edu/ml/machine-learning-databases/auto-mpg/auto-mpg.data\",header =None)\n"
   ]
  },
  {
   "cell_type": "code",
   "execution_count": 60,
   "id": "a337d23d",
   "metadata": {},
   "outputs": [],
   "source": [
    "df.head(10)\n",
    "df.to_csv(\"wine_csv\")"
   ]
  },
  {
   "cell_type": "code",
   "execution_count": 61,
   "id": "c6e86b01",
   "metadata": {},
   "outputs": [
    {
     "name": "stdout",
     "output_type": "stream",
     "text": [
      "Requirement already satisfied: lxml in .\\venv\\lib\\site-packages (6.0.0)\n",
      "Requirement already satisfied: html5lib in .\\venv\\lib\\site-packages (1.1)\n",
      "Requirement already satisfied: six>=1.9 in .\\venv\\lib\\site-packages (from html5lib) (1.17.0)\n",
      "Requirement already satisfied: webencodings in .\\venv\\lib\\site-packages (from html5lib) (0.5.1)\n",
      "Requirement already satisfied: beautifulsoup4 in .\\venv\\lib\\site-packages (4.13.4)\n",
      "Requirement already satisfied: soupsieve>1.2 in .\\venv\\lib\\site-packages (from beautifulsoup4) (2.7)\n",
      "Requirement already satisfied: typing-extensions>=4.0.0 in .\\venv\\lib\\site-packages (from beautifulsoup4) (4.14.1)\n"
     ]
    }
   ],
   "source": [
    "!pip install lxml\n",
    "!pip install html5lib\n",
    "!pip install beautifulsoup4"
   ]
  },
  {
   "cell_type": "code",
   "execution_count": null,
   "id": "20e20089",
   "metadata": {},
   "outputs": [],
   "source": [
    "url =\"https://www.nirfindia.org/Rankings/2024/EngineeringRanking.html\"\n",
    "df=pd.read_html(url) "
   ]
  },
  {
   "cell_type": "code",
   "execution_count": 63,
   "id": "26fb8302",
   "metadata": {},
   "outputs": [
    {
     "data": {
      "text/plain": [
       "[    Institute ID                                               Name  \\\n",
       " 0    IR-E-U-0456  Indian Institute of Technology MadrasMore Deta...   \n",
       " 1    IR-E-I-1074  Indian Institute of Technology DelhiMore Detai...   \n",
       " 2    IR-E-U-0306  Indian Institute of Technology BombayMore Deta...   \n",
       " 3    IR-E-I-1075  Indian Institute of Technology KanpurMore Deta...   \n",
       " 4    IR-E-U-0573  Indian Institute of Technology KharagpurMore D...   \n",
       " ..           ...                                                ...   \n",
       " 95  IR-E-C-30045  C.V. Raman Global University, OdishaMore Detai...   \n",
       " 96   IR-E-U-0621  National Institute of Technology PuducherryMor...   \n",
       " 97  IR-E-C-19754                      SR UniversityMore Details | |   \n",
       " 98   IR-E-C-1269        R.V. College of EngineeringMore Details | |   \n",
       " 99   IR-E-C-1297  Siddaganga Institute of TechnologyMore Details...   \n",
       " \n",
       "            City          State  Score  Rank  \n",
       " 0       Chennai     Tamil Nadu  89.46     1  \n",
       " 1     New Delhi          Delhi  86.66     2  \n",
       " 2        Mumbai    Maharashtra  83.09     3  \n",
       " 3        Kanpur  Uttar Pradesh  82.79     4  \n",
       " 4     Kharagpur    West Bengal  76.88     5  \n",
       " ..          ...            ...    ...   ...  \n",
       " 95  Bhubaneswar         Odisha  44.55    96  \n",
       " 96     Karaikal    Pondicherry  44.38    97  \n",
       " 97     Warangal      Telangana  44.29    98  \n",
       " 98    Bengaluru      Karnataka  44.26    99  \n",
       " 99       Tumkur      Karnataka  43.95   100  \n",
       " \n",
       " [100 rows x 6 columns],\n",
       "    TLR (100)  RPC (100)  GO (100)  OI (100)  PERCEPTION (100)\n",
       " 0      95.79       93.1     81.07     65.85             100.0,\n",
       "    TLR (100)  RPC (100)  GO (100)  OI (100)  PERCEPTION (100)\n",
       " 0      85.71       92.2     84.52     65.39             98.53,\n",
       "    TLR (100)  RPC (100)  GO (100)  OI (100)  PERCEPTION (100)\n",
       " 0      86.34      84.18     84.78     58.67             91.13,\n",
       "    TLR (100)  RPC (100)  GO (100)  OI (100)  PERCEPTION (100)\n",
       " 0      94.25      74.08     89.05     60.62             84.19,\n",
       "    TLR (100)  RPC (100)  GO (100)  OI (100)  PERCEPTION (100)\n",
       " 0      78.22      79.28     79.16     57.83             80.26,\n",
       "    TLR (100)  RPC (100)  GO (100)  OI (100)  PERCEPTION (100)\n",
       " 0      77.72       74.7     87.35      62.2             65.79,\n",
       "    TLR (100)  RPC (100)  GO (100)  OI (100)  PERCEPTION (100)\n",
       " 0      76.81      68.07     84.48     59.56             55.38,\n",
       "    TLR (100)  RPC (100)  GO (100)  OI (100)  PERCEPTION (100)\n",
       " 0      88.73       57.5     77.88      55.7             65.31,\n",
       "    TLR (100)  RPC (100)  GO (100)  OI (100)  PERCEPTION (100)\n",
       " 0      69.69      57.02     78.69     63.12             68.07,\n",
       "    TLR (100)  RPC (100)  GO (100)  OI (100)  PERCEPTION (100)\n",
       " 0      66.26      60.16     84.78     57.89             60.05,\n",
       "    TLR (100)  RPC (100)  GO (100)  OI (100)  PERCEPTION (100)\n",
       " 0      65.52      71.94      69.4     61.75             49.28,\n",
       "    TLR (100)  RPC (100)  GO (100)  OI (100)  PERCEPTION (100)\n",
       " 0      78.24      59.47     76.55     48.89             41.13,\n",
       "    TLR (100)  RPC (100)  GO (100)  OI (100)  PERCEPTION (100)\n",
       " 0      78.11       68.7      64.6     66.85             17.57,\n",
       "    TLR (100)  RPC (100)  GO (100)  OI (100)  PERCEPTION (100)\n",
       " 0      65.94      71.32     63.43     48.67             65.97,\n",
       "    TLR (100)  RPC (100)  GO (100)  OI (100)  PERCEPTION (100)\n",
       " 0      73.39      60.91     75.94     59.84             33.72,\n",
       "    TLR (100)  RPC (100)  GO (100)  OI (100)  PERCEPTION (100)\n",
       " 0      79.79      55.21     75.82     60.67              29.9,\n",
       "    TLR (100)  RPC (100)  GO (100)  OI (100)  PERCEPTION (100)\n",
       " 0      74.65      49.04     78.44     62.31             52.37,\n",
       "    TLR (100)  RPC (100)  GO (100)  OI (100)  PERCEPTION (100)\n",
       " 0      88.39      42.21     70.33     65.56             36.08,\n",
       "    TLR (100)  RPC (100)  GO (100)  OI (100)  PERCEPTION (100)\n",
       " 0      76.49       57.0     73.24     59.41             27.38,\n",
       "    TLR (100)  RPC (100)  GO (100)  OI (100)  PERCEPTION (100)\n",
       " 0      73.19      52.49     79.47     58.14             36.28,\n",
       "    TLR (100)  RPC (100)  GO (100)  OI (100)  PERCEPTION (100)\n",
       " 0      76.99      48.25     75.28     58.05              32.9,\n",
       "    TLR (100)  RPC (100)  GO (100)  OI (100)  PERCEPTION (100)\n",
       " 0       77.3       46.4     73.59     65.15             32.06,\n",
       "    TLR (100)  RPC (100)  GO (100)  OI (100)  PERCEPTION (100)\n",
       " 0      78.05      49.58     65.28     62.49             37.03,\n",
       "    TLR (100)  RPC (100)  GO (100)  OI (100)  PERCEPTION (100)\n",
       " 0      66.48      58.75     75.46     66.84             19.33,\n",
       "    TLR (100)  RPC (100)  GO (100)  OI (100)  PERCEPTION (100)\n",
       " 0      77.36      37.59     79.48     67.93              40.1,\n",
       "    TLR (100)  RPC (100)  GO (100)  OI (100)  PERCEPTION (100)\n",
       " 0      82.08      42.44     66.25     73.63             30.12,\n",
       "    TLR (100)  RPC (100)  GO (100)  OI (100)  PERCEPTION (100)\n",
       " 0       73.1      43.87     76.17     55.57              49.0,\n",
       "    TLR (100)  RPC (100)  GO (100)  OI (100)  PERCEPTION (100)\n",
       " 0      87.05      40.25     72.26     66.24              13.5,\n",
       "    TLR (100)  RPC (100)  GO (100)  OI (100)  PERCEPTION (100)\n",
       " 0      70.75      51.69     73.58     64.01             24.95,\n",
       "    TLR (100)  RPC (100)  GO (100)  OI (100)  PERCEPTION (100)\n",
       " 0      75.21      59.52     61.72     63.28              8.23,\n",
       "    TLR (100)  RPC (100)  GO (100)  OI (100)  PERCEPTION (100)\n",
       " 0       74.9       41.8     79.03     70.51              19.9,\n",
       "    TLR (100)  RPC (100)  GO (100)  OI (100)  PERCEPTION (100)\n",
       " 0      76.22      45.76     66.21     75.56             24.19,\n",
       "    TLR (100)  RPC (100)  GO (100)  OI (100)  PERCEPTION (100)\n",
       " 0      75.47      58.68     63.11     41.23             21.83,\n",
       "    TLR (100)  RPC (100)  GO (100)  OI (100)  PERCEPTION (100)\n",
       " 0      67.22      49.41     77.73      53.0             25.69,\n",
       "    TLR (100)  RPC (100)  GO (100)  OI (100)  PERCEPTION (100)\n",
       " 0      74.84      47.52     65.41     66.32             18.17,\n",
       "    TLR (100)  RPC (100)  GO (100)  OI (100)  PERCEPTION (100)\n",
       " 0      78.67      38.81     71.56     76.14             10.42,\n",
       "    TLR (100)  RPC (100)  GO (100)  OI (100)  PERCEPTION (100)\n",
       " 0      78.06      42.99     62.03     76.29             16.36,\n",
       "    TLR (100)  RPC (100)  GO (100)  OI (100)  PERCEPTION (100)\n",
       " 0      78.42       39.3      72.1     67.21             15.11,\n",
       "    TLR (100)  RPC (100)  GO (100)  OI (100)  PERCEPTION (100)\n",
       " 0      74.71      43.37     73.89     55.62             21.28,\n",
       "    TLR (100)  RPC (100)  GO (100)  OI (100)  PERCEPTION (100)\n",
       " 0      67.13      53.82     73.05     56.86             10.06,\n",
       "    TLR (100)  RPC (100)  GO (100)  OI (100)  PERCEPTION (100)\n",
       " 0      71.23      49.07     66.74     54.19             20.74,\n",
       "    TLR (100)  RPC (100)  GO (100)  OI (100)  PERCEPTION (100)\n",
       " 0      73.11      52.19      51.1      62.7             25.69,\n",
       "    TLR (100)  RPC (100)  GO (100)  OI (100)  PERCEPTION (100)\n",
       " 0      69.24      48.66     69.43     59.76             11.12,\n",
       "    TLR (100)  RPC (100)  GO (100)  OI (100)  PERCEPTION (100)\n",
       " 0      70.41       38.7     78.05     58.99             20.18,\n",
       "    TLR (100)  RPC (100)  GO (100)  OI (100)  PERCEPTION (100)\n",
       " 0      77.19      30.17     67.64     77.54             21.83,\n",
       "    TLR (100)  RPC (100)  GO (100)  OI (100)  PERCEPTION (100)\n",
       " 0      69.93      41.32     69.34      57.1             20.46,\n",
       "    TLR (100)  RPC (100)  GO (100)  OI (100)  PERCEPTION (100)\n",
       " 0      65.47      40.89      66.9     63.14              26.9,\n",
       "    TLR (100)  RPC (100)  GO (100)  OI (100)  PERCEPTION (100)\n",
       " 0      75.92       39.2      62.5     52.44             19.04,\n",
       "    TLR (100)  RPC (100)  GO (100)  OI (100)  PERCEPTION (100)\n",
       " 0      64.01      39.61     72.26     54.45             31.85,\n",
       "    TLR (100)  RPC (100)  GO (100)  OI (100)  PERCEPTION (100)\n",
       " 0      59.41      53.01     57.76      67.1             21.83,\n",
       "    TLR (100)  RPC (100)  GO (100)  OI (100)  PERCEPTION (100)\n",
       " 0      77.82      23.52     66.88     61.08             32.27,\n",
       "    TLR (100)  RPC (100)  GO (100)  OI (100)  PERCEPTION (100)\n",
       " 0      66.39      43.42     51.75     65.57             30.99,\n",
       "    TLR (100)  RPC (100)  GO (100)  OI (100)  PERCEPTION (100)\n",
       " 0      70.74       60.0     35.67     64.13               0.9,\n",
       "    TLR (100)  RPC (100)  GO (100)  OI (100)  PERCEPTION (100)\n",
       " 0      58.61      35.88     74.96     58.35             33.72,\n",
       "    TLR (100)  RPC (100)  GO (100)  OI (100)  PERCEPTION (100)\n",
       " 0      60.91      43.86     74.16      49.8             10.42,\n",
       "    TLR (100)  RPC (100)  GO (100)  OI (100)  PERCEPTION (100)\n",
       " 0       67.6      37.45     57.59     60.23             30.56,\n",
       "    TLR (100)  RPC (100)  GO (100)  OI (100)  PERCEPTION (100)\n",
       " 0      71.65      25.79     74.93     49.75             23.16,\n",
       "    TLR (100)  RPC (100)  GO (100)  OI (100)  PERCEPTION (100)\n",
       " 0      67.16      37.36     60.13     60.22             16.97,\n",
       "    TLR (100)  RPC (100)  GO (100)  OI (100)  PERCEPTION (100)\n",
       " 0      63.02      39.62      67.0     54.88              13.5,\n",
       "    TLR (100)  RPC (100)  GO (100)  OI (100)  PERCEPTION (100)\n",
       " 0      58.52      36.58     75.07     52.94             18.17,\n",
       "    TLR (100)  RPC (100)  GO (100)  OI (100)  PERCEPTION (100)\n",
       " 0      79.07       20.7     64.08      53.1              25.2,\n",
       "    TLR (100)  RPC (100)  GO (100)  OI (100)  PERCEPTION (100)\n",
       " 0      79.45      27.27      60.0     52.87             12.16,\n",
       "    TLR (100)  RPC (100)  GO (100)  OI (100)  PERCEPTION (100)\n",
       " 0       74.1      35.43     56.91     56.59              4.73,\n",
       "    TLR (100)  RPC (100)  GO (100)  OI (100)  PERCEPTION (100)\n",
       " 0      74.88      21.37     62.91     65.44             22.36,\n",
       "    TLR (100)  RPC (100)  GO (100)  OI (100)  PERCEPTION (100)\n",
       " 0      70.54      37.46     52.43     68.77              4.73,\n",
       "    TLR (100)  RPC (100)  GO (100)  OI (100)  PERCEPTION (100)\n",
       " 0      66.73      38.18     51.34     70.34             12.83,\n",
       "    TLR (100)  RPC (100)  GO (100)  OI (100)  PERCEPTION (100)\n",
       " 0      68.19      24.56     59.97     46.77             54.15,\n",
       "    TLR (100)  RPC (100)  GO (100)  OI (100)  PERCEPTION (100)\n",
       " 0      71.91      32.09     60.88     60.89              3.49,\n",
       "    TLR (100)  RPC (100)  GO (100)  OI (100)  PERCEPTION (100)\n",
       " 0      61.27      48.05     58.19     46.62               7.1,\n",
       "    TLR (100)  RPC (100)  GO (100)  OI (100)  PERCEPTION (100)\n",
       " 0      65.91      50.73     44.75     46.87              6.72,\n",
       "    TLR (100)  RPC (100)  GO (100)  OI (100)  PERCEPTION (100)\n",
       " 0      57.83       40.8     65.98     56.96              3.91,\n",
       "    TLR (100)  RPC (100)  GO (100)  OI (100)  PERCEPTION (100)\n",
       " 0      57.75      34.21     70.28     60.62             11.47,\n",
       "    TLR (100)  RPC (100)  GO (100)  OI (100)  PERCEPTION (100)\n",
       " 0      76.71      19.93     65.71      59.2              7.48,\n",
       "    TLR (100)  RPC (100)  GO (100)  OI (100)  PERCEPTION (100)\n",
       " 0      66.49      22.92     68.42     58.93              22.1,\n",
       "    TLR (100)  RPC (100)  GO (100)  OI (100)  PERCEPTION (100)\n",
       " 0      67.96      25.27     62.62      56.0             22.36,\n",
       "    TLR (100)  RPC (100)  GO (100)  OI (100)  PERCEPTION (100)\n",
       " 0      78.75      25.46     49.36     65.02              5.93,\n",
       "    TLR (100)  RPC (100)  GO (100)  OI (100)  PERCEPTION (100)\n",
       " 0      64.95      21.48     67.24     51.61             33.51,\n",
       "    TLR (100)  RPC (100)  GO (100)  OI (100)  PERCEPTION (100)\n",
       " 0      64.78       21.0     73.66     72.16              1.78,\n",
       "    TLR (100)  RPC (100)  GO (100)  OI (100)  PERCEPTION (100)\n",
       " 0       62.6      30.19     67.16     58.61              6.33,\n",
       "    TLR (100)  RPC (100)  GO (100)  OI (100)  PERCEPTION (100)\n",
       " 0      77.55      14.26     69.08     59.78               0.9,\n",
       "    TLR (100)  RPC (100)  GO (100)  OI (100)  PERCEPTION (100)\n",
       " 0      49.88      37.75     65.87     52.63             20.74,\n",
       "    TLR (100)  RPC (100)  GO (100)  OI (100)  PERCEPTION (100)\n",
       " 0      63.57      25.62     65.58     58.84              9.34,\n",
       "    TLR (100)  RPC (100)  GO (100)  OI (100)  PERCEPTION (100)\n",
       " 0      66.04       23.5     63.87     47.69             21.28,\n",
       "    TLR (100)  RPC (100)  GO (100)  OI (100)  PERCEPTION (100)\n",
       " 0      73.11      21.42      53.6     69.58              3.49,\n",
       "    TLR (100)  RPC (100)  GO (100)  OI (100)  PERCEPTION (100)\n",
       " 0       54.3      31.67     71.72     44.34             17.57,\n",
       "    TLR (100)  RPC (100)  GO (100)  OI (100)  PERCEPTION (100)\n",
       " 0      61.79      36.98     44.86     69.15               7.1,\n",
       "    TLR (100)  RPC (100)  GO (100)  OI (100)  PERCEPTION (100)\n",
       " 0      46.98      24.94     80.61     54.41             27.14,\n",
       "    TLR (100)  RPC (100)  GO (100)  OI (100)  PERCEPTION (100)\n",
       " 0      67.36      23.69      57.0     56.49             14.15,\n",
       "    TLR (100)  RPC (100)  GO (100)  OI (100)  PERCEPTION (100)\n",
       " 0      57.82      30.18     62.52     52.14             15.43,\n",
       "    TLR (100)  RPC (100)  GO (100)  OI (100)  PERCEPTION (100)\n",
       " 0      70.81      12.34      65.9     68.52              6.33,\n",
       "    TLR (100)  RPC (100)  GO (100)  OI (100)  PERCEPTION (100)\n",
       " 0      66.88      22.57     54.55     64.37             12.49,\n",
       "    TLR (100)  RPC (100)  GO (100)  OI (100)  PERCEPTION (100)\n",
       " 0      54.72      42.53     45.81     65.88              4.73,\n",
       "    TLR (100)  RPC (100)  GO (100)  OI (100)  PERCEPTION (100)\n",
       " 0      60.99       38.9     34.41     61.52             20.18,\n",
       "    TLR (100)  RPC (100)  GO (100)  OI (100)  PERCEPTION (100)\n",
       " 0      52.61      36.19     51.54     64.91             13.82,\n",
       "    TLR (100)  RPC (100)  GO (100)  OI (100)  PERCEPTION (100)\n",
       " 0      65.07      32.16     44.07     61.19              5.13,\n",
       "    TLR (100)  RPC (100)  GO (100)  OI (100)  PERCEPTION (100)\n",
       " 0       76.2       4.85     57.48     74.22             13.17,\n",
       "    TLR (100)  RPC (100)  GO (100)  OI (100)  PERCEPTION (100)\n",
       " 0      61.77      21.98     58.16     66.58               9.7,\n",
       "    TLR (100)  RPC (100)  GO (100)  OI (100)  PERCEPTION (100)\n",
       " 0      71.12      16.67     53.31     63.59              9.34,\n",
       "    TLR (100)  RPC (100)  GO (100)  OI (100)  PERCEPTION (100)\n",
       " 0      67.53      16.67     58.98     52.15              19.9,\n",
       "    TLR (100)  RPC (100)  GO (100)  OI (100)  PERCEPTION (100)\n",
       " 0      66.69      15.31     61.78      59.8             10.06]"
      ]
     },
     "execution_count": 63,
     "metadata": {},
     "output_type": "execute_result"
    }
   ],
   "source": [
    "df"
   ]
  },
  {
   "cell_type": "code",
   "execution_count": 64,
   "id": "83119917",
   "metadata": {},
   "outputs": [
    {
     "data": {
      "text/html": [
       "<div>\n",
       "<style scoped>\n",
       "    .dataframe tbody tr th:only-of-type {\n",
       "        vertical-align: middle;\n",
       "    }\n",
       "\n",
       "    .dataframe tbody tr th {\n",
       "        vertical-align: top;\n",
       "    }\n",
       "\n",
       "    .dataframe thead th {\n",
       "        text-align: right;\n",
       "    }\n",
       "</style>\n",
       "<table border=\"1\" class=\"dataframe\">\n",
       "  <thead>\n",
       "    <tr style=\"text-align: right;\">\n",
       "      <th></th>\n",
       "      <th>Institute ID</th>\n",
       "      <th>Name</th>\n",
       "      <th>City</th>\n",
       "      <th>State</th>\n",
       "      <th>Score</th>\n",
       "      <th>Rank</th>\n",
       "    </tr>\n",
       "  </thead>\n",
       "  <tbody>\n",
       "    <tr>\n",
       "      <th>0</th>\n",
       "      <td>IR-E-U-0456</td>\n",
       "      <td>Indian Institute of Technology MadrasMore Deta...</td>\n",
       "      <td>Chennai</td>\n",
       "      <td>Tamil Nadu</td>\n",
       "      <td>89.46</td>\n",
       "      <td>1</td>\n",
       "    </tr>\n",
       "    <tr>\n",
       "      <th>1</th>\n",
       "      <td>IR-E-I-1074</td>\n",
       "      <td>Indian Institute of Technology DelhiMore Detai...</td>\n",
       "      <td>New Delhi</td>\n",
       "      <td>Delhi</td>\n",
       "      <td>86.66</td>\n",
       "      <td>2</td>\n",
       "    </tr>\n",
       "    <tr>\n",
       "      <th>2</th>\n",
       "      <td>IR-E-U-0306</td>\n",
       "      <td>Indian Institute of Technology BombayMore Deta...</td>\n",
       "      <td>Mumbai</td>\n",
       "      <td>Maharashtra</td>\n",
       "      <td>83.09</td>\n",
       "      <td>3</td>\n",
       "    </tr>\n",
       "    <tr>\n",
       "      <th>3</th>\n",
       "      <td>IR-E-I-1075</td>\n",
       "      <td>Indian Institute of Technology KanpurMore Deta...</td>\n",
       "      <td>Kanpur</td>\n",
       "      <td>Uttar Pradesh</td>\n",
       "      <td>82.79</td>\n",
       "      <td>4</td>\n",
       "    </tr>\n",
       "    <tr>\n",
       "      <th>4</th>\n",
       "      <td>IR-E-U-0573</td>\n",
       "      <td>Indian Institute of Technology KharagpurMore D...</td>\n",
       "      <td>Kharagpur</td>\n",
       "      <td>West Bengal</td>\n",
       "      <td>76.88</td>\n",
       "      <td>5</td>\n",
       "    </tr>\n",
       "    <tr>\n",
       "      <th>...</th>\n",
       "      <td>...</td>\n",
       "      <td>...</td>\n",
       "      <td>...</td>\n",
       "      <td>...</td>\n",
       "      <td>...</td>\n",
       "      <td>...</td>\n",
       "    </tr>\n",
       "    <tr>\n",
       "      <th>95</th>\n",
       "      <td>IR-E-C-30045</td>\n",
       "      <td>C.V. Raman Global University, OdishaMore Detai...</td>\n",
       "      <td>Bhubaneswar</td>\n",
       "      <td>Odisha</td>\n",
       "      <td>44.55</td>\n",
       "      <td>96</td>\n",
       "    </tr>\n",
       "    <tr>\n",
       "      <th>96</th>\n",
       "      <td>IR-E-U-0621</td>\n",
       "      <td>National Institute of Technology PuducherryMor...</td>\n",
       "      <td>Karaikal</td>\n",
       "      <td>Pondicherry</td>\n",
       "      <td>44.38</td>\n",
       "      <td>97</td>\n",
       "    </tr>\n",
       "    <tr>\n",
       "      <th>97</th>\n",
       "      <td>IR-E-C-19754</td>\n",
       "      <td>SR UniversityMore Details | |</td>\n",
       "      <td>Warangal</td>\n",
       "      <td>Telangana</td>\n",
       "      <td>44.29</td>\n",
       "      <td>98</td>\n",
       "    </tr>\n",
       "    <tr>\n",
       "      <th>98</th>\n",
       "      <td>IR-E-C-1269</td>\n",
       "      <td>R.V. College of EngineeringMore Details | |</td>\n",
       "      <td>Bengaluru</td>\n",
       "      <td>Karnataka</td>\n",
       "      <td>44.26</td>\n",
       "      <td>99</td>\n",
       "    </tr>\n",
       "    <tr>\n",
       "      <th>99</th>\n",
       "      <td>IR-E-C-1297</td>\n",
       "      <td>Siddaganga Institute of TechnologyMore Details...</td>\n",
       "      <td>Tumkur</td>\n",
       "      <td>Karnataka</td>\n",
       "      <td>43.95</td>\n",
       "      <td>100</td>\n",
       "    </tr>\n",
       "  </tbody>\n",
       "</table>\n",
       "<p>100 rows × 6 columns</p>\n",
       "</div>"
      ],
      "text/plain": [
       "    Institute ID                                               Name  \\\n",
       "0    IR-E-U-0456  Indian Institute of Technology MadrasMore Deta...   \n",
       "1    IR-E-I-1074  Indian Institute of Technology DelhiMore Detai...   \n",
       "2    IR-E-U-0306  Indian Institute of Technology BombayMore Deta...   \n",
       "3    IR-E-I-1075  Indian Institute of Technology KanpurMore Deta...   \n",
       "4    IR-E-U-0573  Indian Institute of Technology KharagpurMore D...   \n",
       "..           ...                                                ...   \n",
       "95  IR-E-C-30045  C.V. Raman Global University, OdishaMore Detai...   \n",
       "96   IR-E-U-0621  National Institute of Technology PuducherryMor...   \n",
       "97  IR-E-C-19754                      SR UniversityMore Details | |   \n",
       "98   IR-E-C-1269        R.V. College of EngineeringMore Details | |   \n",
       "99   IR-E-C-1297  Siddaganga Institute of TechnologyMore Details...   \n",
       "\n",
       "           City          State  Score  Rank  \n",
       "0       Chennai     Tamil Nadu  89.46     1  \n",
       "1     New Delhi          Delhi  86.66     2  \n",
       "2        Mumbai    Maharashtra  83.09     3  \n",
       "3        Kanpur  Uttar Pradesh  82.79     4  \n",
       "4     Kharagpur    West Bengal  76.88     5  \n",
       "..          ...            ...    ...   ...  \n",
       "95  Bhubaneswar         Odisha  44.55    96  \n",
       "96     Karaikal    Pondicherry  44.38    97  \n",
       "97     Warangal      Telangana  44.29    98  \n",
       "98    Bengaluru      Karnataka  44.26    99  \n",
       "99       Tumkur      Karnataka  43.95   100  \n",
       "\n",
       "[100 rows x 6 columns]"
      ]
     },
     "execution_count": 64,
     "metadata": {},
     "output_type": "execute_result"
    }
   ],
   "source": [
    "df[0]"
   ]
  },
  {
   "cell_type": "code",
   "execution_count": 65,
   "id": "64d6648f",
   "metadata": {},
   "outputs": [
    {
     "data": {
      "text/html": [
       "<div>\n",
       "<style scoped>\n",
       "    .dataframe tbody tr th:only-of-type {\n",
       "        vertical-align: middle;\n",
       "    }\n",
       "\n",
       "    .dataframe tbody tr th {\n",
       "        vertical-align: top;\n",
       "    }\n",
       "\n",
       "    .dataframe thead th {\n",
       "        text-align: right;\n",
       "    }\n",
       "</style>\n",
       "<table border=\"1\" class=\"dataframe\">\n",
       "  <thead>\n",
       "    <tr style=\"text-align: right;\">\n",
       "      <th></th>\n",
       "      <th>TLR (100)</th>\n",
       "      <th>RPC (100)</th>\n",
       "      <th>GO (100)</th>\n",
       "      <th>OI (100)</th>\n",
       "      <th>PERCEPTION (100)</th>\n",
       "    </tr>\n",
       "  </thead>\n",
       "  <tbody>\n",
       "    <tr>\n",
       "      <th>0</th>\n",
       "      <td>95.79</td>\n",
       "      <td>93.1</td>\n",
       "      <td>81.07</td>\n",
       "      <td>65.85</td>\n",
       "      <td>100.0</td>\n",
       "    </tr>\n",
       "  </tbody>\n",
       "</table>\n",
       "</div>"
      ],
      "text/plain": [
       "   TLR (100)  RPC (100)  GO (100)  OI (100)  PERCEPTION (100)\n",
       "0      95.79       93.1     81.07     65.85             100.0"
      ]
     },
     "execution_count": 65,
     "metadata": {},
     "output_type": "execute_result"
    }
   ],
   "source": [
    "df[1]"
   ]
  },
  {
   "cell_type": "code",
   "execution_count": 66,
   "id": "9ab80db6",
   "metadata": {},
   "outputs": [
    {
     "data": {
      "text/plain": [
       "Text(0.5, 1.0, 'basic line plot')"
      ]
     },
     "execution_count": 66,
     "metadata": {},
     "output_type": "execute_result"
    },
    {
     "data": {
      "image/png": "[encoded data removed]",
      "text/plain": [
       "<Figure size 640x480 with 1 Axes>"
      ]
     },
     "metadata": {},
     "output_type": "display_data"
    }
   ],
   "source": [
    "### matplotlib is powerfu plotting library for python that enables the creation of static ,animated and interactiv visualization , it is widely used in visualization in data science and analytic . \n",
    "\n",
    "import matplotlib.pyplot as plt\n",
    "x=[1,2,3,4,5]\n",
    "y=[1,4,9,16,25]\n",
    "\n",
    "# create a line plot \n",
    "plt.plot(x,y)\n",
    "plt.xlabel('X label')\n",
    "plt.ylabel('y label')\n",
    "plt.title('basic line plot')\n"
   ]
  },
  {
   "cell_type": "code",
   "execution_count": 67,
   "id": "f5de2548",
   "metadata": {},
   "outputs": [
    {
     "data": {
      "text/plain": [
       "[<matplotlib.lines.Line2D at 0x1997b7b9d00>]"
      ]
     },
     "execution_count": 67,
     "metadata": {},
     "output_type": "execute_result"
    },
    {
     "data": {
      "image/png": "[encoded data removed]",
      "text/plain": [
       "<Figure size 640x480 with 1 Axes>"
      ]
     },
     "metadata": {},
     "output_type": "display_data"
    }
   ],
   "source": [
    "x=[1,2,3,4,5]\n",
    "y=[1,4,9,16,25]\n",
    "## create a customized line plot \n",
    "plt.plot(x,y,color='red',linestyle ='--',marker='o',linewidth='3')"
   ]
  },
  {
   "cell_type": "code",
   "execution_count": 68,
   "id": "03d89c7b",
   "metadata": {},
   "outputs": [
    {
     "data": {
      "text/plain": [
       "<BarContainer object of 5 artists>"
      ]
     },
     "execution_count": 68,
     "metadata": {},
     "output_type": "execute_result"
    },
    {
     "data": {
      "image/png": "[encoded data removed]",
      "text/plain": [
       "<Figure size 640x480 with 1 Axes>"
      ]
     },
     "metadata": {},
     "output_type": "display_data"
    }
   ],
   "source": [
    "## bar plot \n",
    "\n",
    "categories =['A','B','C','D','E']\n",
    "values=[5,7,3,8,6]\n",
    "\n",
    "## create a bar plot \n",
    "\n",
    "plt.bar(categories,values, color ='pink')"
   ]
  },
  {
   "cell_type": "code",
   "execution_count": 69,
   "id": "beee7aca",
   "metadata": {},
   "outputs": [
    {
     "data": {
      "text/plain": [
       "(array([3., 1., 4., 4., 3.]),\n",
       " array([1. , 2.4, 3.8, 5.2, 6.6, 8. ]),\n",
       " <BarContainer object of 5 artists>)"
      ]
     },
     "execution_count": 69,
     "metadata": {},
     "output_type": "execute_result"
    },
    {
     "data": {
      "image/png": "[encoded data removed]",
      "text/plain": [
       "<Figure size 640x480 with 1 Axes>"
      ]
     },
     "metadata": {},
     "output_type": "display_data"
    }
   ],
   "source": [
    "## histogram are used to represent the disturbution of a dataset, they divide the data into bins and count the number of data points in each bin\n",
    "\n",
    "data=[1,2,2,3,4,5,5,6,6,6,7,7,8,5,6]\n",
    "plt.hist(data,bins=5,color ='black')"
   ]
  },
  {
   "cell_type": "code",
   "execution_count": 70,
   "id": "9996f9bd",
   "metadata": {},
   "outputs": [
    {
     "data": {
      "text/plain": [
       "<matplotlib.collections.PathCollection at 0x199796584d0>"
      ]
     },
     "execution_count": 70,
     "metadata": {},
     "output_type": "execute_result"
    },
    {
     "data": {
      "image/png": "[encoded data removed]",
      "text/plain": [
       "<Figure size 640x480 with 1 Axes>"
      ]
     },
     "metadata": {},
     "output_type": "display_data"
    }
   ],
   "source": [
    "# create a scatter plot \n",
    "#sample data \n",
    "x =[1,2,3,4,5]\n",
    "y=[2,3,4,5,7]\n",
    "plt.scatter(x,y,color='blue')"
   ]
  },
  {
   "cell_type": "code",
   "execution_count": 71,
   "id": "66329e41",
   "metadata": {},
   "outputs": [
    {
     "data": {
      "text/plain": [
       "([<matplotlib.patches.Wedge at 0x1997b9e2ed0>,\n",
       "  <matplotlib.patches.Wedge at 0x1997b9c20f0>,\n",
       "  <matplotlib.patches.Wedge at 0x1997b9e3a10>,\n",
       "  <matplotlib.patches.Wedge at 0x1997ba20200>],\n",
       " [Text(0.6465637011386807, 0.8899187493079641, 'A'),\n",
       "  Text(-0.8899187390319623, 0.6465637152823859, 'B'),\n",
       "  Text(-0.3399188151951704, -1.046162128485022, 'C'),\n",
       "  Text(1.0461621838648125, -0.339918644753721, 'D')],\n",
       " [Text(0.3526711097120076, 0.48541022689525304, '30.0%'),\n",
       "  Text(-0.4854102212901612, 0.3526711174267559, '20.0%'),\n",
       "  Text(-0.1854102628337293, -0.5706338882645574, '40.0%'),\n",
       "  Text(0.5706339184717159, -0.185410169865666, '10.0%')])"
      ]
     },
     "execution_count": 71,
     "metadata": {},
     "output_type": "execute_result"
    },
    {
     "data": {
      "image/png": "[encoded data removed]",
      "text/plain": [
       "<Figure size 640x480 with 1 Axes>"
      ]
     },
     "metadata": {},
     "output_type": "display_data"
    }
   ],
   "source": [
    "## pie chart \n",
    "\n",
    "labels =['A','B','C','D']\n",
    "sizes=[30,20,40,10]\n",
    "colors=['gold','yellowgreen','lightcoral','lightskyblue']\n",
    "explode =(0,0,0,0,0)\n",
    "plt.pie(sizes,labels=labels,colors=colors,autopct =\"%1.1f%%\",shadow=True)"
   ]
  },
  {
   "cell_type": "code",
   "execution_count": 72,
   "id": "7c6fbdc9",
   "metadata": {},
   "outputs": [
    {
     "name": "stdout",
     "output_type": "stream",
     "text": [
      "Requirement already satisfied: seaborn in .\\venv\\lib\\site-packages (0.13.2)\n",
      "Requirement already satisfied: numpy!=1.24.0,>=1.20 in .\\venv\\lib\\site-packages (from seaborn) (2.3.1)\n",
      "Requirement already satisfied: pandas>=1.2 in .\\venv\\lib\\site-packages (from seaborn) (2.3.1)\n",
      "Requirement already satisfied: matplotlib!=3.6.1,>=3.4 in .\\venv\\lib\\site-packages (from seaborn) (3.10.3)\n",
      "Requirement already satisfied: contourpy>=1.0.1 in .\\venv\\lib\\site-packages (from matplotlib!=3.6.1,>=3.4->seaborn) (1.3.2)\n",
      "Requirement already satisfied: cycler>=0.10 in .\\venv\\lib\\site-packages (from matplotlib!=3.6.1,>=3.4->seaborn) (0.12.1)\n",
      "Requirement already satisfied: fonttools>=4.22.0 in .\\venv\\lib\\site-packages (from matplotlib!=3.6.1,>=3.4->seaborn) (4.58.5)\n",
      "Requirement already satisfied: kiwisolver>=1.3.1 in .\\venv\\lib\\site-packages (from matplotlib!=3.6.1,>=3.4->seaborn) (1.4.8)\n",
      "Requirement already satisfied: packaging>=20.0 in .\\venv\\lib\\site-packages (from matplotlib!=3.6.1,>=3.4->seaborn) (24.2)\n",
      "Requirement already satisfied: pillow>=8 in .\\venv\\lib\\site-packages (from matplotlib!=3.6.1,>=3.4->seaborn) (11.3.0)\n",
      "Requirement already satisfied: pyparsing>=2.3.1 in .\\venv\\lib\\site-packages (from matplotlib!=3.6.1,>=3.4->seaborn) (3.2.3)\n",
      "Requirement already satisfied: python-dateutil>=2.7 in .\\venv\\lib\\site-packages (from matplotlib!=3.6.1,>=3.4->seaborn) (2.9.0.post0)\n",
      "Requirement already satisfied: pytz>=2020.1 in .\\venv\\lib\\site-packages (from pandas>=1.2->seaborn) (2025.2)\n",
      "Requirement already satisfied: tzdata>=2022.7 in .\\venv\\lib\\site-packages (from pandas>=1.2->seaborn) (2025.2)\n",
      "Requirement already satisfied: six>=1.5 in .\\venv\\lib\\site-packages (from python-dateutil>=2.7->matplotlib!=3.6.1,>=3.4->seaborn) (1.17.0)\n"
     ]
    },
    {
     "data": {
      "text/plain": [
       "<Axes: xlabel='total_bill', ylabel='tip'>"
      ]
     },
     "execution_count": 72,
     "metadata": {},
     "output_type": "execute_result"
    },
    {
     "data": {
      "image/png": "[encoded data removed]",
      "text/plain": [
       "<Figure size 640x480 with 1 Axes>"
      ]
     },
     "metadata": {},
     "output_type": "display_data"
    }
   ],
   "source": [
    "## seaborn ia a python visualization library based on matplotlib that provides a high level interface for drawing attaractive and informatiove statistical graphics , seaborn help in creating complex visulaization with just  a few lines of code , in this lesson , we will cover the basic of seaborn , including creating various types of plots and customizing them.\n",
    "!pip install seaborn\n",
    "import seaborn as sns\n",
    "##Basic plotting seaborn \n",
    "tips=sns.load_dataset('tips')\n",
    "#create a scatter plot\n",
    "sns.scatterplot(x='total_bill',y='tip',data=tips)"
   ]
  },
  {
   "cell_type": "code",
   "execution_count": 73,
   "id": "dbc7d9e9",
   "metadata": {},
   "outputs": [
    {
     "data": {
      "text/plain": [
       "Text(0.5, 1.0, 'line plot of total bill by size')"
      ]
     },
     "execution_count": 73,
     "metadata": {},
     "output_type": "execute_result"
    },
    {
     "data": {
      "image/png": "[encoded data removed]",
      "text/plain": [
       "<Figure size 640x480 with 1 Axes>"
      ]
     },
     "metadata": {},
     "output_type": "display_data"
    }
   ],
   "source": [
    "## line plot\n",
    "\n",
    "sns.lineplot(x='size',y='total_bill',data=tips)\n",
    "plt.title(\"line plot of total bill by size\")"
   ]
  },
  {
   "cell_type": "code",
   "execution_count": 74,
   "id": "b0ef9fcb",
   "metadata": {},
   "outputs": [
    {
     "data": {
      "text/plain": [
       "Text(0.5, 1.0, 'Bar Plot of total Bill by Day')"
      ]
     },
     "execution_count": 74,
     "metadata": {},
     "output_type": "execute_result"
    },
    {
     "data": {
      "image/png": "[encoded data removed]",
      "text/plain": [
       "<Figure size 640x480 with 1 Axes>"
      ]
     },
     "metadata": {},
     "output_type": "display_data"
    }
   ],
   "source": [
    "## categorical plots\n",
    "## Bar plot\n",
    "sns.barplot(x='day',y='total_bill',data=tips)\n",
    "plt.title('Bar Plot of total Bill by Day')"
   ]
  },
  {
   "cell_type": "code",
   "execution_count": 75,
   "id": "2e00a24e",
   "metadata": {},
   "outputs": [
    {
     "data": {
      "text/html": [
       "<div>\n",
       "<style scoped>\n",
       "    .dataframe tbody tr th:only-of-type {\n",
       "        vertical-align: middle;\n",
       "    }\n",
       "\n",
       "    .dataframe tbody tr th {\n",
       "        vertical-align: top;\n",
       "    }\n",
       "\n",
       "    .dataframe thead th {\n",
       "        text-align: right;\n",
       "    }\n",
       "</style>\n",
       "<table border=\"1\" class=\"dataframe\">\n",
       "  <thead>\n",
       "    <tr style=\"text-align: right;\">\n",
       "      <th></th>\n",
       "      <th>total_bill</th>\n",
       "      <th>tip</th>\n",
       "      <th>size</th>\n",
       "    </tr>\n",
       "  </thead>\n",
       "  <tbody>\n",
       "    <tr>\n",
       "      <th>total_bill</th>\n",
       "      <td>1.000000</td>\n",
       "      <td>0.675734</td>\n",
       "      <td>0.598315</td>\n",
       "    </tr>\n",
       "    <tr>\n",
       "      <th>tip</th>\n",
       "      <td>0.675734</td>\n",
       "      <td>1.000000</td>\n",
       "      <td>0.489299</td>\n",
       "    </tr>\n",
       "    <tr>\n",
       "      <th>size</th>\n",
       "      <td>0.598315</td>\n",
       "      <td>0.489299</td>\n",
       "      <td>1.000000</td>\n",
       "    </tr>\n",
       "  </tbody>\n",
       "</table>\n",
       "</div>"
      ],
      "text/plain": [
       "            total_bill       tip      size\n",
       "total_bill    1.000000  0.675734  0.598315\n",
       "tip           0.675734  1.000000  0.489299\n",
       "size          0.598315  0.489299  1.000000"
      ]
     },
     "execution_count": 75,
     "metadata": {},
     "output_type": "execute_result"
    }
   ],
   "source": [
    "##Heat map\n",
    "corr=tips[['total_bill','tip','size']].corr()\n",
    "corr\n",
    "\n"
   ]
  },
  {
   "cell_type": "code",
   "execution_count": 76,
   "id": "0ac8b4c4",
   "metadata": {},
   "outputs": [
    {
     "data": {
      "text/plain": [
       "<Axes: >"
      ]
     },
     "execution_count": 76,
     "metadata": {},
     "output_type": "execute_result"
    },
    {
     "data": {
      "image/png": "[encoded data removed]",
      "text/plain": [
       "<Figure size 640x480 with 2 Axes>"
      ]
     },
     "metadata": {},
     "output_type": "display_data"
    }
   ],
   "source": [
    "sns.heatmap(corr,annot=True,cmap='coolwarm')"
   ]
  },
  {
   "cell_type": "code",
   "execution_count": 77,
   "id": "90923382",
   "metadata": {},
   "outputs": [],
   "source": [
    "##Sql is a standard language for managing and manuplating relational databases . sQlite is a self.contained , serverless and zero-configuration database engine that is widely used for embedded database systems ,In this lesson we will cover the basics of sql and sqllite, including creating databases, tables and performing various sql operations.\n",
    "import sqlite3"
   ]
  },
  {
   "cell_type": "code",
   "execution_count": 78,
   "id": "21a32da7",
   "metadata": {},
   "outputs": [],
   "source": [
    "##Connect to an SQlite datavase\n",
    "\n",
    "connection =sqlite3.connect('example.db')\n",
    "connection\n",
    "cursor=connection.cursor()"
   ]
  },
  {
   "cell_type": "code",
   "execution_count": 79,
   "id": "5339ffac",
   "metadata": {},
   "outputs": [],
   "source": [
    "##create a table\n",
    "cursor.execute(''' create Table IF Not Exists employees( id Integer Primary Key,\n",
    "               name Text Not Null,\n",
    "               age Integer,\n",
    "               department text)''')\n",
    "#3 commit the changes\n",
    "connection.commit()"
   ]
  },
  {
   "cell_type": "code",
   "execution_count": 80,
   "id": "78d369ef",
   "metadata": {},
   "outputs": [
    {
     "data": {
      "text/plain": [
       "<sqlite3.Cursor at 0x1997cd80240>"
      ]
     },
     "execution_count": 80,
     "metadata": {},
     "output_type": "execute_result"
    }
   ],
   "source": [
    "cursor.execute(''' Select * from employees''')"
   ]
  },
  {
   "cell_type": "code",
   "execution_count": 81,
   "id": "122be95e",
   "metadata": {},
   "outputs": [],
   "source": [
    "##Insert the data in sqlite table\n",
    "cursor.execute(''' Insert Into employees(name,age,department)\n",
    "               values('Krish',32,'Data scientist')''')\n",
    "cursor.execute(''' Insert Into employees(name,age,department)\n",
    "               values('bob',22,'quality scientist')''')\n",
    "cursor.execute(''' Insert Into employees(name,age,department)\n",
    "               values('Krishna',42,' scientist')''')\n",
    "\n",
    "connection.commit()"
   ]
  },
  {
   "cell_type": "code",
   "execution_count": 82,
   "id": "471211bc",
   "metadata": {},
   "outputs": [
    {
     "name": "stdout",
     "output_type": "stream",
     "text": [
      "(2, 'bob', 22, 'quality scientist')\n",
      "(3, 'Krishna', 42, ' scientist')\n",
      "(4, 'Krish', 32, 'Data scientist')\n",
      "(5, 'bob', 22, 'quality scientist')\n",
      "(6, 'Krishna', 42, ' scientist')\n"
     ]
    }
   ],
   "source": [
    "##Query the data from the table\n",
    "cursor.execute('Select * from employees')\n",
    "rows =cursor.fetchall()\n",
    "##print the quaried data\n",
    "for row in rows:\n",
    "    print(row)"
   ]
  },
  {
   "cell_type": "code",
   "execution_count": 83,
   "id": "df0a7fed",
   "metadata": {},
   "outputs": [],
   "source": [
    "## update the data in to table\n",
    "cursor.execute(''' UPDATE employees \n",
    "               Set age=39\n",
    "               where name ='Krish' ''')\n",
    "connection.commit()"
   ]
  },
  {
   "cell_type": "code",
   "execution_count": 84,
   "id": "46509bf4",
   "metadata": {},
   "outputs": [
    {
     "name": "stdout",
     "output_type": "stream",
     "text": [
      "(2, 'bob', 22, 'quality scientist')\n",
      "(3, 'Krishna', 42, ' scientist')\n",
      "(4, 'Krish', 39, 'Data scientist')\n",
      "(5, 'bob', 22, 'quality scientist')\n",
      "(6, 'Krishna', 42, ' scientist')\n"
     ]
    }
   ],
   "source": [
    "##Query the data from the table\n",
    "cursor.execute('Select * from employees')\n",
    "rows =cursor.fetchall()\n",
    "##print the quaried data\n",
    "for row in rows:\n",
    "    print(row)"
   ]
  },
  {
   "cell_type": "code",
   "execution_count": 85,
   "id": "a87dd816",
   "metadata": {},
   "outputs": [],
   "source": [
    "## Delete the data from the table \n",
    "cursor.execute(''' Delete From employees\n",
    "               Where name = \"Krish\" ''')\n",
    "\n",
    "connection.commit()"
   ]
  },
  {
   "cell_type": "code",
   "execution_count": 86,
   "id": "a73ecf25",
   "metadata": {},
   "outputs": [
    {
     "name": "stdout",
     "output_type": "stream",
     "text": [
      "(2, 'bob', 22, 'quality scientist')\n",
      "(3, 'Krishna', 42, ' scientist')\n",
      "(5, 'bob', 22, 'quality scientist')\n",
      "(6, 'Krishna', 42, ' scientist')\n"
     ]
    }
   ],
   "source": [
    "##Query the data from the table\n",
    "cursor.execute('Select * from employees')\n",
    "rows =cursor.fetchall()\n",
    "##print the quaried data\n",
    "for row in rows:\n",
    "    print(row)"
   ]
  },
  {
   "cell_type": "code",
   "execution_count": 87,
   "id": "7a0ac68a",
   "metadata": {},
   "outputs": [
    {
     "name": "stderr",
     "output_type": "stream",
     "text": [
      "DEBUG:root:This ia a debug message\n",
      "INFO:root: This is an info message\n",
      "WARNING:root:This is a warning message\n",
      "ERROR:root:This is a error meesage\n",
      "CRITICAL:root:This is a critical message\n"
     ]
    }
   ],
   "source": [
    "## Python Logging : Logging is a crucial aspect of any application, providing a way to track events , errors ,and operational information . Python's Built-in Logging Module Offer a flexible frame work for emitting log messages from python program\n",
    "\n",
    "import logging\n",
    "\n",
    "##configure the basic logging setting\n",
    "logging.basicConfig(level=logging.DEBUG)\n",
    "##log message with different severity message\n",
    "logging.debug(\"This ia a debug message\")\n",
    "logging.info(\" This is an info message\")\n",
    "logging.warning(\"This is a warning message\")\n",
    "logging.error(\"This is a error meesage\")\n",
    "logging.critical(\"This is a critical message\")"
   ]
  },
  {
   "cell_type": "code",
   "execution_count": 88,
   "id": "79f5ead8",
   "metadata": {},
   "outputs": [
    {
     "name": "stderr",
     "output_type": "stream",
     "text": [
      "DEBUG:root:This ia a debug message\n",
      "INFO:root: This is an info message\n",
      "WARNING:root:This is a warning message\n",
      "ERROR:root:This is a error meesage\n",
      "CRITICAL:root:This is a critical message\n"
     ]
    }
   ],
   "source": [
    "##configuring logging\n",
    "logging.basicConfig(\n",
    "    filename='app.log',\n",
    "    filemode='w',\n",
    "    level =logging.DEBUG,\n",
    "    format='%(asctime)s-%(name)s-%(levelname)s-%(message)s',\n",
    "    datefmt='%Y-%m-%d %H:%M:%S'\n",
    ")\n",
    "##log message with different severity message\n",
    "logging.debug(\"This ia a debug message\")\n",
    "logging.info(\" This is an info message\")\n",
    "logging.warning(\"This is a warning message\")\n",
    "logging.error(\"This is a error meesage\")\n",
    "logging.critical(\"This is a critical message\")"
   ]
  },
  {
   "cell_type": "code",
   "execution_count": 89,
   "id": "30039d1f",
   "metadata": {},
   "outputs": [],
   "source": [
    "## process and multi processing \n",
    "# 1-Program- A program is a sequence of instruction written in programming language [ ex: python , c, c++]\n",
    "#2- process: A process is simply an instance of a program that is being executed .\n",
    "#3-Resource - code segment -data segment --Heap memory-stack-Register \n",
    "## A thread is an unit of execution within the process , single threaded process - \n",
    "\n",
    "### Multitasking ## when to use multi threading ##I/O - bound task: Tasks that spend more time writing for I/O operation (e.g , file operation , network )\n",
    "\n",
    "import threading\n",
    "import time"
   ]
  },
  {
   "cell_type": "code",
   "execution_count": 90,
   "id": "cb0c88ff",
   "metadata": {},
   "outputs": [
    {
     "name": "stdout",
     "output_type": "stream",
     "text": [
      "number :0\n",
      "Letter: a\n",
      "number :1\n",
      "Letter: b\n",
      "number :2\n",
      "Letter: c\n",
      "number :3\n",
      "Letter: d\n",
      "number :4\n",
      "Letter: e\n",
      "10.041335821151733\n"
     ]
    }
   ],
   "source": [
    "import threading\n",
    "import time\n",
    "def print_numbers():\n",
    "    for i in range(5):\n",
    "        time.sleep(2)\n",
    "        print(f\"number :{i}\")\n",
    "\n",
    "def print_letter():\n",
    "    for letter in \"abcde\":\n",
    "        time.sleep(2)\n",
    "        print(f\"Letter: {letter}\")    \n",
    "\n",
    "##create 2 thread\n",
    "\n",
    "t1=threading.Thread(target=print_numbers)\n",
    "t2=threading.Thread(target=print_letter)\n",
    "\n",
    "\n",
    "t=time.time()\n",
    "t1.start()\n",
    "t2.start() \n",
    "### wait for the thread comlete\n",
    "t1.join()\n",
    "t2.join()\n",
    "finished_time=time.time()-t\n",
    "print(finished_time)\n"
   ]
  },
  {
   "cell_type": "code",
   "execution_count": 91,
   "id": "05f5cbec",
   "metadata": {},
   "outputs": [
    {
     "name": "stdout",
     "output_type": "stream",
     "text": [
      "0.5942001342773438\n"
     ]
    }
   ],
   "source": [
    "##multiprocessing\n",
    "##processes that run in parallel ## CPU-Bound Task ##tasks that  high on cpu usage (mathematical computation)\n",
    "\n",
    "import multiprocessing \n",
    "\n",
    "import time\n",
    "def square_numbers():\n",
    "    for i in range(5):\n",
    "        time.sleep(1)\n",
    "        print(f\"square : {i*i}\")\n",
    "\n",
    "\n",
    "def cube_numbers():\n",
    "    for i in range(5):\n",
    "        time.sleep(1.5)\n",
    "        print(f\"cube : {i*i*i}\")\n",
    "\n",
    "if __name__==\"__main__\":   \n",
    "    p1=multiprocessing.Process(target=square_numbers)\n",
    "    p2=multiprocessing.Process(target=cube_numbers)\n",
    "    t=time.time()\n",
    "    p1.start()\n",
    "    p2.start()\n",
    "\n",
    "## wait for the process to cimpklete\n",
    "    p1.join()\n",
    "    p2.join()     \n",
    "    finished_time=time.time()-t\n",
    "    print(finished_time)\n",
    "\n",
    "\n"
   ]
  },
  {
   "cell_type": "code",
   "execution_count": null,
   "id": "56497d04",
   "metadata": {},
   "outputs": [],
   "source": [
    "##multithread with thread pool executor\n",
    "\n",
    "from concurrent.futures import ThreadPoolExecutor\n",
    "import time\n",
    "def print_number(number):\n",
    "    time.sleep(1)\n",
    "    return f\"numbee : {number}\"\n",
    "\n",
    "numbers =[1,2,3,4,5]\n",
    "\n",
    "with ThreadPoolExecutor(max_workers=3)as executor:\n",
    "    results=executor.map(print_number)\n",
    "\n",
    "for result in results:\n",
    "    print(result)"
   ]
  },
  {
   "cell_type": "code",
   "execution_count": 105,
   "id": "25eff6c8",
   "metadata": {},
   "outputs": [
    {
     "name": "stderr",
     "output_type": "stream",
     "text": [
      "DEBUG:urllib3.connectionpool:Starting new HTTPS connection (1): python.langchain.com:443\n",
      "DEBUG:urllib3.connectionpool:Starting new HTTPS connection (1): python.langchain.com:443\n",
      "DEBUG:urllib3.connectionpool:Starting new HTTPS connection (1): python.langchain.com:443\n",
      "DEBUG:urllib3.connectionpool:https://python.langchain.com:443 \"GET /docs/introduction/ HTTP/1.1\" 200 None\n",
      "DEBUG:urllib3.connectionpool:https://python.langchain.com:443 \"GET /docs/how_to/ HTTP/1.1\" 200 None\n",
      "DEBUG:urllib3.connectionpool:https://python.langchain.com:443 \"GET /docs/tutorials/ HTTP/1.1\" 200 None\n"
     ]
    },
    {
     "name": "stdout",
     "output_type": "stream",
     "text": [
      "fetched 19453 characters from https://python.langchain.com/docs/how_to/fetched 9853 characters from https://python.langchain.com/docs/tutorials/\n",
      "\n",
      "fetched 12264 characters from https://python.langchain.com/docs/introduction/\n",
      " all web pages fetched \n"
     ]
    }
   ],
   "source": [
    "import threading\n",
    "import requests\n",
    "from bs4 import BeautifulSoup\n",
    "\n",
    "\n",
    "urls=[\n",
    "    'https://python.langchain.com/docs/introduction/',\n",
    "    'https://python.langchain.com/docs/tutorials/',\n",
    "    'https://python.langchain.com/docs/how_to/'\n",
    "]\n",
    "def fetch_content(url):\n",
    "    response=requests.get(url)\n",
    "    soup=BeautifulSoup(response.content,'html.parser')\n",
    "    print(f'fetched {(len(soup.text))} characters from {url}')\n",
    "\n",
    "\n",
    "threads=[]\n",
    "\n",
    "for  url in urls:\n",
    "    thread=threading.Thread(target=fetch_content,args=(url,))\n",
    "    threads.append(thread)\n",
    "    thread.start()\n",
    "for thread in threads:\n",
    "    thread.join()\n",
    "\n",
    " \n",
    "print(\" all web pages fetched \")     \n",
    "  "
   ]
  },
  {
   "cell_type": "code",
   "execution_count": null,
   "id": "74aac0ae",
   "metadata": {},
   "outputs": [],
   "source": [
    "## cpu- bound tasks ## multi processing for cpu- bound task sys\n",
    "import multiprocessing\n",
    "import math\n",
    "import sys\n",
    "import time\n",
    "\n",
    "#increase the maximum number of digits for integer conversion\n",
    "sys.set_int_max_str_digits(100000)\n",
    "\n",
    "## function to compute factorial of a given number \n",
    "def computer_factorial(number):\n",
    "    print(f\" computing factorial of {number}\")\n",
    "    result=math.factorial(number)\n",
    "    print(f\" Factorial of {number} is {result}\")\n",
    "    return result\n",
    "\n",
    "if __name__ ==\"__main__\":\n",
    "    numbers=[5000,6000,700,8000]\n",
    "    start_time=time.time()\n",
    "\n",
    "    ##create a pool of worker process\n",
    "    with multiprocessing.Pool() as pool:\n",
    "        results=pool.map(computer_factorial,numbers)\n",
    "        \n",
    "    end_time=time.time()    \n",
    "\n",
    "    print(f\" Results : {results}\")\n",
    "    print(f\" Time taken : {end_time -start_time}seconds \")\n"
   ]
  },
  {
   "cell_type": "code",
   "execution_count": 2,
   "id": "99f561c1",
   "metadata": {},
   "outputs": [
    {
     "name": "stdout",
     "output_type": "stream",
     "text": [
      "3.12.0 | packaged by Anaconda, Inc. | (main, Oct  2 2023, 17:20:38) [MSC v.1916 64 bit (AMD64)]\n",
      "win32\n"
     ]
    }
   ],
   "source": [
    "## Python memory Management\n",
    "##Memory management in python involves a combination of automatic garbage collection , references counting , and various internal optimization to efficiently manage allocation and deallocation . understandinf these mechanish can help developers write more efficient and robust application. \n",
    "\n",
    "import sys\n",
    "\n",
    "print(sys.version)\n",
    "print(sys.platform)"
   ]
  },
  {
   "cell_type": "code",
   "execution_count": null,
   "id": "336becf9",
   "metadata": {},
   "outputs": [
    {
     "name": "stdout",
     "output_type": "stream",
     "text": [
      "3\n"
     ]
    }
   ],
   "source": [
    "##Reference counting is a memory management technique where Python automatically tracks how many \"references\" (variables, objects, or pointers) are pointing to an object in memory.\n",
    "\n",
    "import sys\n",
    "a=[]\n",
    "b=a\n",
    "## 2 ( one reference  from a and one from getrefcount())\n",
    "print(sys.getrefcount(a))"
   ]
  },
  {
   "cell_type": "code",
   "execution_count": 6,
   "id": "967afae8",
   "metadata": {},
   "outputs": [
    {
     "data": {
      "text/plain": [
       "1052"
      ]
     },
     "execution_count": 6,
     "metadata": {},
     "output_type": "execute_result"
    }
   ],
   "source": [
    "## garbage collection  -Garbage collection is Python's automatic memory management system that cleans up unused objects to free memory.\n",
    "import gc\n",
    "gc.collect()"
   ]
  },
  {
   "cell_type": "code",
   "execution_count": null,
   "id": "a4ff60d7",
   "metadata": {},
   "outputs": [],
   "source": [
    "##Flask::web framework which is created with the python programming language\n",
    "## web server : "
   ]
  }
 ],
 "metadata": {
  "kernelspec": {
   "display_name": "Python 3",
   "language": "python",
   "name": "python3"
  },
  "language_info": {
   "codemirror_mode": {
    "name": "ipython",
    "version": 3
   },
   "file_extension": ".py",
   "mimetype": "text/x-python",
   "name": "python",
   "nbconvert_exporter": "python",
   "pygments_lexer": "ipython3",
   "version": "3.12.0"
  }
 },
 "nbformat": 4,
 "nbformat_minor": 5
}
