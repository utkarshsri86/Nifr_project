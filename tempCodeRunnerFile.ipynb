List= [] 

for x in range(10):
    if x % 2 ==0 :
        List.append(x)

print(List)

[x**2 for x in range(10)]